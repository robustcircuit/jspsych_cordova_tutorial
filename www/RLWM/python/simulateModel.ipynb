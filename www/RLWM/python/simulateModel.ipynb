{
 "cells": [
  {
   "cell_type": "code",
   "execution_count": 1,
   "id": "c7fdc3f1",
   "metadata": {},
   "outputs": [],
   "source": [
    "import numpy as np\n",
    "import RLWMmodel\n",
    "import socketio\n",
    "import pybads\n",
    "from pyvbmc import priors\n",
    "import requests\n",
    "import uuid\n",
    "import webbrowser"
   ]
  },
  {
   "cell_type": "code",
   "execution_count": 2,
   "id": "201fa634",
   "metadata": {},
   "outputs": [],
   "source": [
    "unique_id = str(uuid.uuid4())"
   ]
  },
  {
   "cell_type": "code",
   "execution_count": 3,
   "id": "3be96872",
   "metadata": {},
   "outputs": [],
   "source": [
    "modelSpecs=[\n",
    "    {   \n",
    "        \"name\": \"fullRLWM\",\n",
    "        \"settings\": {\n",
    "            \"interactionRLWM\": True,\n",
    "        },\n",
    "        \"parameters\": {\n",
    "            \"WMforget\": \"free_prior\",\n",
    "            \"WMcapacity\": \"free_prior\",\n",
    "            \"WMweight\": \"free_prior\",\n",
    "            \"WMbias-\": \"free_prior\",\n",
    "            \"Qlr+\": \"free_prior\",\n",
    "            \"Qlr-\": \"free_prior\",\n",
    "            \"stickiness\":\"free_prior\",\n",
    "            \"invTemperature\": \"free_prior\",\n",
    "            \"epsilon\": \"free_prior\"\n",
    "        }\n",
    "    },\n",
    "    {   \n",
    "        \"name\": \"simpleRLWM\",\n",
    "        \"settings\": {\n",
    "            \"interactionRLWM\": False,\n",
    "        },\n",
    "        \"parameters\": {\n",
    "            \"WMforget\": \"free_prior\",\n",
    "            \"WMcapacity\": \"free_prior\",\n",
    "            \"WMweight\": \"free_prior\",\n",
    "            \"WMbias-\": \"fixed_1\",\n",
    "            \"Qlr+\": \"free_prior\",\n",
    "            \"Qlr-\": \"mirror_Qlr+\",\n",
    "            \"stickiness\":\"free_prior\",\n",
    "            \"invTemperature\": \"free_prior\",\n",
    "            \"epsilon\": \"fixed_0\"\n",
    "        }\n",
    "    },\n",
    "    {   \n",
    "        \"name\": \"onlyRL\",\n",
    "        \"settings\": {\n",
    "            \"interactionRLWM\": False,\n",
    "        },\n",
    "        \"parameters\": {\n",
    "            \"WMforget\": \"fixed_0\",\n",
    "            \"WMcapacity\": \"fixed_0\",\n",
    "            \"WMweight\": \"fixed_0\",\n",
    "            \"WMbias-\": \"fixed_0\",\n",
    "            \"Qlr+\": \"free_prior\",\n",
    "            \"Qlr-\": \"mirror_Qlr-\",\n",
    "            \"stickiness\":\"free_prior\",\n",
    "            \"invTemperature\": \"free_prior\",\n",
    "            \"epsilon\": \"fixed_0\"\n",
    "        }\n",
    "    }\n",
    "]"
   ]
  },
  {
   "cell_type": "code",
   "execution_count": 4,
   "id": "cf894827",
   "metadata": {},
   "outputs": [],
   "source": [
    "# \n",
    "simulationOptions={\n",
    "    \"serverURL\":\"http://localhost:3000\",\n",
    "    \"experimentUrlParams\":\"?TASK=RLWM&RUN_MODE=simulate\",\n",
    "    \"pathPyMain\":\"RLWM/python/RLWMinit.py\",\n",
    "    \"configPyScript\": 'RLWM/python/pyscript.toml',\n",
    "    \"nSimuls\": 30,\n",
    "    \"models\": modelSpecs\n",
    "}"
   ]
  },
  {
   "cell_type": "code",
   "execution_count": null,
   "id": "f84c123f",
   "metadata": {},
   "outputs": [
    {
     "name": "stdout",
     "output_type": "stream",
     "text": [
      "{'data': {'simul_userId': '7e346f95-7fe2-42c0-b384-2675330d04c2', 'web_userId': 'NeoeiJzjVNZzNlnw'}}\n"
     ]
    }
   ],
   "source": [
    "sio = socketio.Client()\n",
    "\n",
    "@sio.on('requestSimulationOptions')  # Replace with your actual server event\n",
    "def on_message(data):\n",
    "    print(data)\n",
    "    return {'simulationOptions': simulationOptions}\n",
    "\n",
    "sio.connect(simulationOptions['serverURL'])\n",
    "\n",
    "sio.emit('register-pythonclient', unique_id)\n",
    "\n",
    "url = f\"{simulationOptions['serverURL']}{simulationOptions['experimentUrlParams']}&SIMUL_USERID={unique_id}\"\n",
    "webbrowser.open(url)\n",
    "#response = requests.get(f\"{simulationOptions['serverURL']}{simulationOptions['experimentUrlParams']}&SIMUL_USERID={unique_id}\")\n",
    "\n",
    "sio.wait()"
   ]
  }
 ],
 "metadata": {
  "kernelspec": {
   "display_name": "neurograd",
   "language": "python",
   "name": "python3"
  },
  "language_info": {
   "codemirror_mode": {
    "name": "ipython",
    "version": 3
   },
   "file_extension": ".py",
   "mimetype": "text/x-python",
   "name": "python",
   "nbconvert_exporter": "python",
   "pygments_lexer": "ipython3",
   "version": "3.10.18"
  }
 },
 "nbformat": 4,
 "nbformat_minor": 5
}
