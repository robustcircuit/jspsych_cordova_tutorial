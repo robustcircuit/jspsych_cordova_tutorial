{
 "cells": [
  {
   "cell_type": "code",
   "execution_count": 1,
   "id": "c7fdc3f1",
   "metadata": {},
   "outputs": [],
   "source": [
    "import numpy as np\n",
    "import RLWMmodel\n"
   ]
  },
  {
   "cell_type": "code",
   "execution_count": null,
   "id": "c8ff0ad1",
   "metadata": {},
   "outputs": [],
   "source": [
    "defaults=RLWMmodel.getDefault()\n",
    "settings=defaults['settings']\n",
    "mapP=defaults['mapP']\n",
    "priorP=defaults['priorP']\n",
    "nParams=max(mapP.values())+1\n",
    "P=np.zeros((nParams,))\n",
    "for paramName, paramIdx in mapP.items():\n",
    "    P[paramIdx]=priorP[paramName]"
   ]
  },
  {
   "cell_type": "code",
   "execution_count": 3,
   "id": "c5248e2f",
   "metadata": {},
   "outputs": [],
   "source": [
    "# test functions\n",
    "setSize=3\n",
    "X,mapX=RLWMmodel.initX(setSize=3)\n",
    "\n",
    "C={\n",
    "    \"setSize\": setSize,\n",
    "    \"A\": np.random.randint(0, setSize),\n",
    "    \"S\": np.random.randint(0, setSize),\n",
    "    \"R\": 2,\n",
    "    \"newA\": 1,\n",
    "}"
   ]
  },
  {
   "cell_type": "code",
   "execution_count": 4,
   "id": "783ce6e8",
   "metadata": {},
   "outputs": [],
   "source": [
    "X=RLWMmodel.update(P,X,mapP=mapP, mapX=mapX, C=C, settings=settings)"
   ]
  },
  {
   "cell_type": "code",
   "execution_count": 5,
   "id": "a9203051",
   "metadata": {},
   "outputs": [],
   "source": [
    "policy,logLik=RLWMmodel.act(P,X,mapP=mapP, mapX=mapX, C=C, settings=settings)"
   ]
  }
 ],
 "metadata": {
  "kernelspec": {
   "display_name": "neurograd",
   "language": "python",
   "name": "python3"
  },
  "language_info": {
   "codemirror_mode": {
    "name": "ipython",
    "version": 3
   },
   "file_extension": ".py",
   "mimetype": "text/x-python",
   "name": "python",
   "nbconvert_exporter": "python",
   "pygments_lexer": "ipython3",
   "version": "3.10.18"
  }
 },
 "nbformat": 4,
 "nbformat_minor": 5
}
